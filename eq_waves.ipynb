{
 "cells": [
  {
   "cell_type": "markdown",
   "metadata": {},
   "source": [
    "# Propagation des anomalies de convection profonde en zone tropicale\n",
    "\n",
    "Auteur : FERRY Frédéric (ENM/C3M) - Novembre 2021\n",
    "\n",
    "L'objectif de ce TP Python est d’étudier les caractéristiques de propagation des anomalies de convection profonde en zone tropicale à travers l'analyse de cartes et d'animations et l'exploitation de diagrammes temps-longitude (de Hovmöller).\n",
    "\n",
    "On cherchera à mettre en évidence les signatures des ondes équatoriales couplées à la convection et de l'Oscillation de Madden-Julian qui sont une source de variabilité de l'atmosphère tropicale à l'échelle intra-mensuelle et intra-saisonnière.\n",
    "\n",
    "On s'intéressera à des champs quotidiens champs d'OLR, de potentiel de vitesse à 200hPa et de vent zonal à 850hPa, et plus précisément à la propagation des anomalies de ces champs.\n",
    " \n",
    "** Outgoing Longwave Radiation (OLR) : mesure par satellite de la quantité d’énergie émise dans l’infrarouge vers l’espace par la surface terrestre, les océans et l’atmosphère. (unité : W/m2) : c’est une composante essentielle du bilan radiatif terrestre.**\n",
    "\n",
    "** Potentiel de vitesse (Velocity Potential, VP) : composante divergente/convergente de l’écoulement (unité : m2/s). Le VP est calculé en inversant le laplacien de la divergence du vent horizontal, ce qui en fait un champ lissé facile à analyser. Remarque : le VP est généralement calculé à partir de données globales (utilisation des harmoniques sphériques pour l’inversion du Laplacien), il est plus difficile à calculer pour un domaine limité.**\n",
    "\n",
    "Concepts Python illustrés :\n",
    "\n",
    "- Exploitation de fichiers de données quotidiennes au format netcdf\n",
    "- Calcul de climatologies\n",
    "- Décomposition d'un champ de vent en fonction de courant et potentiel de vitesse (module windspharm)\n",
    "- Création de fichier netcdf\n",
    "- Calcul d'anomalies quotidiennes\n",
    "- Tracé de séries temporelles ponctuelles\n",
    "- Tracé de cartes et d'animations\n",
    "- Tracé de diagrammes temps-longitude"
   ]
  },
  {
   "cell_type": "markdown",
   "metadata": {},
   "source": [
    "<p>\n",
    "** Instructions : **\n",
    "</p>\n",
    "\n",
    "<p>\n",
    "** Exécuter les cellules qui suivent de façon séquentielle **\n",
    "</p>\n",
    "\n",
    "<span style='background :yellow' > ** Répondre (directement dans le calepin) aux questions dans les parties avec titre jaune ** </span>\n",
    "\n",
    "<p>\n",
    "** Sauvegarder le notebook final au format pdf **\n",
    "</p>"
   ]
  },
  {
   "cell_type": "code",
   "execution_count": null,
   "metadata": {},
   "outputs": [],
   "source": [
    "%matplotlib inline\n",
    "\n",
    "import os\n",
    "import xarray as xr\n",
    "import matplotlib as mpl\n",
    "import matplotlib.pyplot as plt\n",
    "import numpy as np\n",
    "\n",
    "import cartopy.crs as ccrs\n",
    "from cartopy.mpl.geoaxes import GeoAxes\n",
    "from cartopy.mpl.ticker import LongitudeFormatter, LatitudeFormatter\n",
    "from mpl_toolkits.axes_grid1 import AxesGrid\n",
    "from cartopy.util import add_cyclic_point\n",
    "\n",
    "import pandas as pd\n",
    "from pandas.plotting import register_matplotlib_converters\n",
    "register_matplotlib_converters()\n",
    "\n",
    "import IPython.display as IPdisplay, matplotlib.font_manager as fm\n",
    "from PIL import Image\n",
    "import glob\n",
    "\n",
    "import warnings\n",
    "warnings.filterwarnings(\"ignore\")"
   ]
  },
  {
   "cell_type": "raw",
   "metadata": {},
   "source": [
    "Dossiers des données et des figures/animations."
   ]
  },
  {
   "cell_type": "code",
   "execution_count": null,
   "metadata": {},
   "outputs": [],
   "source": [
    "dir_data='./data/'\n",
    "dir_results='./result/'\n",
    "dir_figs='./figs/'\n",
    "dir_anim='./anim/'\n",
    "if not os.path.exists(dir_figs):\n",
    "    os.makedirs(dir_figs)\n",
    "if not os.path.exists(dir_anim):\n",
    "    os.makedirs(dir_anim)"
   ]
  },
  {
   "cell_type": "raw",
   "metadata": {},
   "source": [
    "Fichiers netcdf (OLR, u850, u200, v850, v200, VP200)"
   ]
  },
  {
   "cell_type": "code",
   "execution_count": null,
   "metadata": {},
   "outputs": [],
   "source": [
    "olr_file='olr.day.mean.nc'\n",
    "u200_file='uwnd200.1980-2021.nc'\n",
    "v200_file='vwnd200.1980-2021.nc'\n",
    "u850_file='uwnd850.1980-2021.nc'\n",
    "v850_file='vwnd850.1980-2021.nc'\n",
    "vp_file='vp200.1980-2021.nc'"
   ]
  },
  {
   "cell_type": "markdown",
   "metadata": {},
   "source": [
    "# Etape 1 : analyse des données d'OLR"
   ]
  },
  {
   "cell_type": "markdown",
   "metadata": {},
   "source": [
    "Ouverture du fichier de données quotidiennes d'OLR : https://www.esrl.noaa.gov/psd/data/gridded/data.interp_OLR.html"
   ]
  },
  {
   "cell_type": "code",
   "execution_count": null,
   "metadata": {},
   "outputs": [],
   "source": [
    "olr    = xr.open_dataset(dir_data+olr_file)\n",
    "print(olr)"
   ]
  },
  {
   "cell_type": "raw",
   "metadata": {},
   "source": [
    "Ouverture des données d'OLR entre les latitudes 30S-30N sur la période 1980-2020, calcul des climatologies saisonnières."
   ]
  },
  {
   "cell_type": "code",
   "execution_count": null,
   "metadata": {
    "scrolled": true
   },
   "outputs": [],
   "source": [
    "year1='1980'\n",
    "year2='2020'\n",
    "latS=-30.\n",
    "latN=30.\n",
    "\n",
    "olr    = xr.open_dataset(dir_data+olr_file).sel(time=slice(year1,year2)).sel(lat=slice(latN,latS))\n",
    "olr_mean = olr.groupby('time.season').mean('time')\n",
    "seasons=['DJF','JJA','MAM','SON']\n",
    "\n",
    "print(olr.time.values)\n",
    "lat = olr.lat.values\n",
    "lon = olr.lon.values\n",
    "\n",
    "print(olr_mean)\n",
    "data = olr_mean['olr']"
   ]
  },
  {
   "cell_type": "raw",
   "metadata": {},
   "source": [
    "Fonction de tracé du fond de carte."
   ]
  },
  {
   "cell_type": "code",
   "execution_count": null,
   "metadata": {},
   "outputs": [],
   "source": [
    "lonW=lon[0]\n",
    "lonE=lon[-1]\n",
    "\n",
    "bounds = [(lonW, lonE, latS, latN)]\n",
    "\n",
    "def plot_background(ax):\n",
    "    ax.set_xticks(np.linspace(0, 360, 13), crs=ccrs.PlateCarree())\n",
    "    ax.set_yticks(np.linspace(latS, latN, 5), crs=ccrs.PlateCarree())\n",
    "    ax.axes.axis('tight')\n",
    "    lon_formatter = LongitudeFormatter(zero_direction_label=True)\n",
    "    lat_formatter = LatitudeFormatter()\n",
    "    ax.xaxis.set_major_formatter(lon_formatter)\n",
    "    ax.yaxis.set_major_formatter(lat_formatter)\n",
    "    ax.coastlines()\n",
    "    ax.set_extent(*bounds, crs=ccrs.PlateCarree())\n",
    "    return ax"
   ]
  },
  {
   "cell_type": "raw",
   "metadata": {},
   "source": [
    "Tracé des climatologies saisonnières de l'OLR."
   ]
  },
  {
   "cell_type": "code",
   "execution_count": null,
   "metadata": {},
   "outputs": [],
   "source": [
    "levels = np.arange(160,335,5)\n",
    "\n",
    "axes_class = (GeoAxes, dict(map_projection=ccrs.PlateCarree(central_longitude=180.0)))\n",
    "fig = plt.figure(figsize=(15, 15))\n",
    "fig.suptitle('Outgoing Longwave Radiation (W/m$^2$) : '+year1+'-'+year2, fontsize=16)\n",
    "\n",
    "axgr = AxesGrid(fig, 111, axes_class=axes_class,\n",
    "       nrows_ncols=(4, 1),\n",
    "       axes_pad=0.6,\n",
    "       cbar_location='bottom',\n",
    "       cbar_mode='single',\n",
    "       cbar_pad=0.2,\n",
    "       cbar_size='10%',\n",
    "       label_mode='')  # note the empty label_mode\n",
    "                   \n",
    "for i, ax in enumerate(axgr):\n",
    "    plot_background(ax)\n",
    "    ax.set_title(seasons[i], fontsize=14)\n",
    "    cf = ax.contourf(lon, lat, data[i,:,:], levels, transform=ccrs.PlateCarree(), cmap='jet', extend='both')\n",
    "    axgr.cbar_axes[i].colorbar(cf)\n",
    "\n",
    "plt.show()\n",
    "\n",
    "figname=dir_figs+'OLR_global_climatology'\n",
    "fig.savefig(figname+'.png')"
   ]
  },
  {
   "cell_type": "markdown",
   "metadata": {},
   "source": [
    "# <span style='background :yellow' > Questions </span>\n",
    "\n",
    "\n",
    "<p>\n",
    "**1)** A quelles gammes de valeurs d’OLR correspondent les régions de convection profonde en zone tropicale ?\n",
    "</p>\n",
    "\n",
    "<p style=\"background:rgb(230,255,230)\">\n",
    "votre réponse ici\n",
    "</p>"
   ]
  },
  {
   "cell_type": "markdown",
   "metadata": {},
   "source": [
    "# Etape 2 : calcul du potentiel de vitesse à 200 hPa"
   ]
  },
  {
   "cell_type": "markdown",
   "metadata": {},
   "source": [
    "<span style='background :red' > ** Module windspharm nécessaire, à exécuter uniquement sur Mac/Linux ** </span>"
   ]
  },
  {
   "cell_type": "markdown",
   "metadata": {},
   "source": [
    "On dispose de données quotidiennes de vent zonal et de vent méridien sur la période 1948-2020 : https://www.esrl.noaa.gov/psd/data/gridded/data.ncep.reanalysis.pressure.html\n",
    "\n",
    "Grâce au  module windspharm on va créer ici un fichier de données quotidiennes de potentiel de vitesse à 200 hPa (VP200) à partir des données de vent horizontal à 200hPa et au format netcdf\n",
    "--> fichier vp200.1948-2020.nc dans le répertoire result\n",
    "--> VP200    (time, lat, lon)\n",
    "\n",
    "<span style='background :red' > Attention : étape longue à ne faire qu'une fois ! Si cela ne fonctionne pas, sauter cette étape et utiliser pour la suite le fichier vp200.1948-2020.nc de secours présent dans le répertoire data. </span>"
   ]
  },
  {
   "cell_type": "code",
   "execution_count": null,
   "metadata": {},
   "outputs": [],
   "source": [
    "from windspharm.standard import VectorWind\n",
    "from windspharm.tools import prep_data, recover_data, order_latdim\n",
    "from windspharm.examples import example_data_path\n",
    "\n",
    "u    = xr.open_dataset(dir_data+u200_file)\n",
    "v    = xr.open_dataset(dir_data+v200_file)\n",
    "\n",
    "vp_file='vp200.1980-2021.nc'\n",
    "sf_file='sf200.1980-2021.nc'\n",
    "\n",
    "uwnd = u.uwnd.values\n",
    "vwnd =  v.vwnd.values\n",
    "times  = u.time.values\n",
    "lats  = u.lat.values\n",
    "lons  = u.lon.values\n",
    "\n",
    "# The standard interface requires that latitude and longitude be the leading\n",
    "# dimensions of the input wind components, and that wind components must be\n",
    "# either 2D or 3D arrays. The data read in is 3D and has latitude and\n",
    "# longitude as the last dimensions. The bundled tools can make the process of\n",
    "# re-shaping the data a lot easier to manage.\n",
    "uwnd, uwnd_info = prep_data(uwnd, 'tyx')\n",
    "vwnd, vwnd_info = prep_data(vwnd, 'tyx')\n",
    "print(uwnd_info)\n",
    "\n",
    "# Create a VectorWind instance to handle the computation of streamfunction and\n",
    "# velocity potential.\n",
    "w = VectorWind(uwnd, vwnd)\n",
    "\n",
    "# Compute the streamfunction and velocity potential. \n",
    "sf, vp = w.sfvp()\n",
    "\n",
    "# Use the bundled tools to re-shape the outputs to the 4D shape of the wind components \n",
    "# as they were read off files.\n",
    "sf = recover_data(sf, uwnd_info)\n",
    "vp = recover_data(vp, uwnd_info)\n",
    "\n",
    "# Convert numpy arrays to xarray DataArrays and netcdf files\n",
    "vp2 = xr.DataArray(vp,dims=['time','lat','lon'], coords={'time': times,'lat': lats, 'lon': lons})\n",
    "vp2.name='VP200'\n",
    "print(vp2)\n",
    "vp2.to_netcdf(dir_results+vp_file)\n",
    "\n",
    "sf2 = xr.DataArray(sf,dims=['time','lat','lon'], coords={'time': times,'lat': lats, 'lon': lons})\n",
    "sf2.name='SF200'\n",
    "print(sf2)\n",
    "sf2.to_netcdf(dir_results+sf_file)"
   ]
  },
  {
   "cell_type": "markdown",
   "metadata": {},
   "source": [
    "# Etape 3 : analyse des données de potentiel de vitesse à 200 hPa"
   ]
  },
  {
   "cell_type": "raw",
   "metadata": {},
   "source": [
    "Ouverture des données de VP200 entre les latitudes 30S-30N sur la période 1980-2020, calcul des climatologies saisonnières."
   ]
  },
  {
   "cell_type": "code",
   "execution_count": null,
   "metadata": {},
   "outputs": [],
   "source": [
    "year1='1980'\n",
    "year2='2020'\n",
    "latS=-30.\n",
    "latN=30.\n",
    "\n",
    "if not os.path.exists(dir_results+vp_file):\n",
    "    vp    = xr.open_dataset(dir_data+vp_file).sel(time=slice(year1,year2)).sel(lat=slice(latN,latS))\n",
    "if os.path.exists(dir_results+vp_file):\n",
    "    vp    = xr.open_dataset(dir_results+vp_file).sel(time=slice(year1,year2)).sel(lat=slice(latN,latS))\n",
    "lat = vp.lat.values\n",
    "lon = vp.lon.values\n",
    "print(vp)\n",
    "\n",
    "vp_mean = vp.groupby('time.season').mean('time')\n",
    "seasons=['DJF','JJA','MAM','SON']\n",
    "print(vp_mean)\n",
    "data = vp_mean['VP200']"
   ]
  },
  {
   "cell_type": "raw",
   "metadata": {},
   "source": [
    "Tracé des climatologies saisonnières du VP200."
   ]
  },
  {
   "cell_type": "code",
   "execution_count": null,
   "metadata": {},
   "outputs": [],
   "source": [
    "levels = np.arange(-10,12,2)\n",
    "\n",
    "axes_class = (GeoAxes, dict(map_projection=ccrs.PlateCarree(central_longitude=180.0)))\n",
    "fig = plt.figure(figsize=(15, 15))\n",
    "fig.suptitle('Velocity potential at 200 hPa ($10^6$m$^2$s$^{-1}$) : '+year1+'-'+year2, fontsize=16)\n",
    "\n",
    "axgr = AxesGrid(fig, 111, axes_class=axes_class,\n",
    "       nrows_ncols=(4, 1),\n",
    "       axes_pad=0.6,\n",
    "       cbar_location='bottom',\n",
    "       cbar_mode='single',\n",
    "       cbar_pad=0.2,\n",
    "       cbar_size='10%',\n",
    "       label_mode='')  # note the empty label_mode\n",
    "                   \n",
    "for i, ax in enumerate(axgr):\n",
    "    plot_background(ax)\n",
    "    ax.set_title(seasons[i], fontsize=14)\n",
    "    cf = ax.contourf(lon, lat, data[i,:,:] * 1e-06, levels, transform=ccrs.PlateCarree(), cmap='BrBG_r', extend='both')\n",
    "    axgr.cbar_axes[i].colorbar(cf)\n",
    "\n",
    "plt.show()\n",
    "\n",
    "figname=dir_figs+'vp200_tropics_climatology'\n",
    "fig.savefig(figname+'.png')"
   ]
  },
  {
   "cell_type": "markdown",
   "metadata": {},
   "source": [
    "# <span style='background :yellow' > Questions </span>\n",
    "\n",
    "<p>\n",
    "**1)**  Quel est le signe du potentiel de vitesse à 200hPa dans les régions de convection profonde tropicale ?\n",
    "</p>\n",
    "\n",
    "<p style=\"background:rgb(230,255,230)\">\n",
    "votre réponse ici\n",
    "</p>\n",
    "\n",
    "<p>\n",
    "**2)**  Comparer la structure spatiale du champ de potentiel de vitesse avec celle de l'OLR.\n",
    "</p>\n",
    "\n",
    "<p style=\"background:rgb(230,255,230)\">\n",
    "votre réponse ici\n",
    "</p>"
   ]
  },
  {
   "cell_type": "markdown",
   "metadata": {},
   "source": [
    "# Etape 4 : calcul des anomalies quotidiennes (OLR, U850, VP200)."
   ]
  },
  {
   "cell_type": "raw",
   "metadata": {},
   "source": [
    "Selection des données d'OLR, de VP200 et de vent à 850hPa sur la période 1980-2020 et entre les latitudes 15S-15N. Calcul des anomalies quotidiennes. Sauvegarde des fichiers netcdf d'anomalies dans le répertoire result (étape longue)."
   ]
  },
  {
   "cell_type": "code",
   "execution_count": null,
   "metadata": {},
   "outputs": [],
   "source": [
    "year1='1980'\n",
    "year2='2020'\n",
    "latS=-15.\n",
    "latN=15.\n",
    "\n",
    "olr    = xr.open_dataset(dir_data+olr_file).sel(time=slice(year1,year2)).sel(lat=slice(latN,latS))\n",
    "if not os.path.exists(dir_results+vp_file):\n",
    "    vp    = xr.open_dataset(dir_data+vp_file).sel(time=slice(year1,year2)).sel(lat=slice(latN,latS))\n",
    "if os.path.exists(dir_results+vp_file):\n",
    "    vp    = xr.open_dataset(dir_results+vp_file).sel(time=slice(year1,year2)).sel(lat=slice(latN,latS))\n",
    "u    = xr.open_dataset(dir_data+u850_file).sel(time=slice(year1,year2)).sel(lat=slice(latN,latS))\n",
    "v    = xr.open_dataset(dir_data+v850_file).sel(time=slice(year1,year2)).sel(lat=slice(latN,latS))\n",
    "\n",
    "lat = olr.lat.values\n",
    "lon = olr.lon.values\n",
    "\n",
    "print(' ----- Computing daily anomalies ----- ')\n",
    "olr_anom=olr.groupby('time.dayofyear') - olr.groupby('time.dayofyear').mean('time')\n",
    "vp_anom=vp.groupby('time.dayofyear') - vp.groupby('time.dayofyear').mean('time')\n",
    "u_anom=u.groupby('time.dayofyear') - u.groupby('time.dayofyear').mean('time')\n",
    "v_anom=v.groupby('time.dayofyear') - v.groupby('time.dayofyear').mean('time')\n",
    "\n",
    "print(olr_anom)\n",
    "print(vp_anom)\n",
    "print(u_anom)\n",
    "print(v_anom)\n",
    "\n",
    "print(' ----- Writing netcdf ----- ')\n",
    "dataDIR = dir_results+'olr.anom.'+year1+'-'+year2+'.nc'\n",
    "olr_anom.to_netcdf(dataDIR)\n",
    "dataDIR = dir_results+'vp200.anom.'+year1+'-'+year2+'.nc'\n",
    "vp_anom.to_netcdf(dataDIR)\n",
    "dataDIR = dir_results+'uwnd850.anom.'+year1+'-'+year2+'.nc'\n",
    "u_anom.to_netcdf(dataDIR)\n",
    "dataDIR = dir_results+'vwnd850.anom.'+year1+'-'+year2+'.nc'\n",
    "v_anom.to_netcdf(dataDIR)\n",
    "print(' ----- Done ----- ')"
   ]
  },
  {
   "cell_type": "markdown",
   "metadata": {},
   "source": [
    "# Etape 5 : analyse des anomalies quotidiennes (OLR, U850, VP200)."
   ]
  },
  {
   "cell_type": "raw",
   "metadata": {},
   "source": [
    "Sélection des données d'OLR et de VP200 pour une année (2005) et un point (0,120E - Continent Maritime)."
   ]
  },
  {
   "cell_type": "code",
   "execution_count": null,
   "metadata": {},
   "outputs": [],
   "source": [
    "date1='2005-01-01'\n",
    "date2='2005-12-31'\n",
    "\n",
    "olr_days=olr.sel(time=slice(date1,date2)).sel(lat=0, method='nearest').sel(lon=120, method='nearest')\n",
    "olr_days_anom=olr_anom.sel(time=slice(date1,date2)).sel(lat=0, method='nearest').sel(lon=120, method='nearest')\n",
    "\n",
    "vp_days=vp.sel(time=slice(date1,date2)).sel(lat=0, method='nearest').sel(lon=120, method='nearest') * 1e-06\n",
    "vp_days_anom=vp_anom.sel(time=slice(date1,date2)).sel(lat=0, method='nearest').sel(lon=120, method='nearest') * 1e-06\n",
    "\n",
    "print(olr_days)\n",
    "print(olr_days_anom)\n",
    "\n",
    "data1_olr = olr_days['olr']\n",
    "data2_olr = olr_days_anom['olr']\n",
    "data3_olr=data1_olr-data2_olr\n",
    "\n",
    "data1_vp = vp_days['VP200']\n",
    "data2_vp = vp_days_anom['VP200']\n",
    "data3_vp=data1_vp-data2_vp"
   ]
  },
  {
   "cell_type": "raw",
   "metadata": {},
   "source": [
    "Pour le point choisi, tracé de la série temporelle annuelle du champ quotidien et de la climatologie quotidienne pour mettre en évidence des anomalies quotidiennes (fluctuations d'échelles supérieures au cycle saisonnier moyen)."
   ]
  },
  {
   "cell_type": "code",
   "execution_count": null,
   "metadata": {},
   "outputs": [],
   "source": [
    "plt_title = 'OLR and VP200 at (0,120E) : '+date1+'-'+date2\n",
    "\n",
    "fig=plt.figure(figsize=(20, 15))\n",
    "fig.suptitle(plt_title, fontsize=16)\n",
    "\n",
    "ax = plt.subplot(211)\n",
    "plt.title('OLR', fontsize=12)\n",
    "x = [i for i in range(0, 365,1)]\n",
    "plt.xlabel('days of the year')\n",
    "plt.ylabel('W/m$^2$')\n",
    "clim = ax.plot(data3_olr, color='black', linewidth=1, linestyle='-', label='Daily climatology')\n",
    "total = ax.plot(data1_olr, color='green', linewidth=1, linestyle='-', label='Daily field')\n",
    "ax.fill_between(x, data3_olr, data1_olr, where=data1_olr >= data3_olr, facecolor='red', interpolate=True)\n",
    "ax.fill_between(x, data3_olr, data1_olr, where=data1_olr <= data3_olr, facecolor='blue', interpolate=True)\n",
    "plt.legend()\n",
    "\n",
    "ax = plt.subplot(212)\n",
    "plt.title('VP200', fontsize=12)\n",
    "x = [i for i in range(0, 365,1)]\n",
    "plt.xlabel('days of the year')\n",
    "plt.ylabel('$10^6$m$^2$s$^{-1}$')\n",
    "clim = ax.plot(data3_vp, color='black', linewidth=1, linestyle='-', label='Daily climatology')\n",
    "total = ax.plot(data1_vp, color='green', linewidth=1, linestyle='-', label='Daily field')\n",
    "ax.fill_between(x, data3_vp, data1_vp, where=data1_vp >= data3_vp, facecolor='red', interpolate=True)\n",
    "ax.fill_between(x, data3_vp, data1_vp, where=data1_vp <= data3_vp, facecolor='blue', interpolate=True)\n",
    "plt.legend()\n",
    "\n",
    "plt.show()\n",
    "\n",
    "figname=dir_figs+'OLR_VP200_Maritime_Continent'+date1+'-'+date2\n",
    "fig.savefig(figname+'.png')"
   ]
  },
  {
   "cell_type": "markdown",
   "metadata": {},
   "source": [
    "# <span style='background :yellow' > Questions </span>\n",
    "\n",
    "<p>\n",
    "**1)**  Commenter les cycles annuel moyens de l'OLR et du VP200 sur le point choisi (courbe noire).\n",
    "</p>\n",
    "\n",
    "<p style=\"background:rgb(230,255,230)\">\n",
    "votre réponse ici\n",
    "</p>\n",
    "\n",
    "<p>\n",
    "**2)**  Quels sont les ordres de grandeurs des anomalies d'OLR et de VP200 sur le point choisi (zones en rouge/bleu) ?\n",
    "</p>\n",
    "\n",
    "<p style=\"background:rgb(230,255,230)\">\n",
    "votre réponse ici\n",
    "</p>"
   ]
  },
  {
   "cell_type": "raw",
   "metadata": {},
   "source": [
    "Extraction des données du 1er avril 2005."
   ]
  },
  {
   "cell_type": "code",
   "execution_count": null,
   "metadata": {},
   "outputs": [],
   "source": [
    "date1='2005-04-01'\n",
    "\n",
    "olr_day=olr.sel(time=date1)\n",
    "olr_day_anom=olr_anom.sel(time=date1)\n",
    "\n",
    "vp_day=vp.sel(time=date1) * 1e-06\n",
    "vp_day_anom=vp_anom.sel(time=date1) * 1e-06\n",
    "\n",
    "u_day=u.sel(time=date1)\n",
    "u_day_anom=u_anom.sel(time=date1)\n",
    "v_day=v.sel(time=date1)\n",
    "v_day_anom=v_anom.sel(time=date1)\n",
    "\n",
    "print(olr_day)\n",
    "olr_data1 = olr_day['olr']\n",
    "olr_data2 = olr_day_anom['olr']\n",
    "vp_data1 = vp_day['VP200']\n",
    "vp_data2 = vp_day_anom['VP200']\n",
    "u_data1 = u_day['uwnd']\n",
    "u_data2 = u_day_anom['uwnd']\n",
    "v_data1 = v_day['vwnd']\n",
    "v_data2 = v_day_anom['vwnd']"
   ]
  },
  {
   "cell_type": "raw",
   "metadata": {},
   "source": [
    "Conversion de u et v en numpy array (sinon problème avec tracé des vecteurs vent)."
   ]
  },
  {
   "cell_type": "code",
   "execution_count": null,
   "metadata": {},
   "outputs": [],
   "source": [
    "u_data1=np.array(u_data1)\n",
    "v_data1=np.array(v_data1)\n",
    "u_data2=np.array(u_data2)\n",
    "v_data2=np.array(v_data2)"
   ]
  },
  {
   "cell_type": "raw",
   "metadata": {},
   "source": [
    "Moyenne du champ d'anomalie d'OLR sur la bande 15S-15N."
   ]
  },
  {
   "cell_type": "code",
   "execution_count": null,
   "metadata": {},
   "outputs": [],
   "source": [
    "olr_day_anom_avg=olr_day_anom.sel(lat=slice(latN,latS)).mean('lat')\n",
    "vp_day_anom_avg=vp_day_anom.sel(lat=slice(latN,latS)).mean('lat')\n",
    "print(olr_day_anom_avg)\n",
    "olr_profile = olr_day_anom_avg['olr']\n",
    "vp_profile = vp_day_anom_avg['VP200']"
   ]
  },
  {
   "cell_type": "raw",
   "metadata": {},
   "source": [
    "Tracé des cartes de VP200 (champ quotidien et anomalie quotidienne)."
   ]
  },
  {
   "cell_type": "code",
   "execution_count": null,
   "metadata": {
    "scrolled": false
   },
   "outputs": [],
   "source": [
    "olr_levels1 = np.arange(80,320,10)\n",
    "olr_levels2 = np.arange(-160,180,20)\n",
    "vp_levels1 = np.arange(-15,17.5,2.5)\n",
    "vp_levels2 = np.arange(-15,17.5,2.5)\n",
    "olr_cmap1='jet'\n",
    "olr_cmap2='RdBu_r'\n",
    "vp_cmap1='BrBG_r'\n",
    "vp_cmap2='BrBG_r'\n",
    "\n",
    "bounds = [(lonW, lonE, latS, latN)]\n",
    "\n",
    "fig = plt.figure(figsize=(15., 10.))\n",
    "fig.suptitle('VP200 : '+date1, fontsize=16)\n",
    "ax = fig.add_subplot(3, 1, 1, projection=ccrs.PlateCarree(central_longitude=180.0))\n",
    "ax.set_title('Daily field - VP200', loc='center')\n",
    "plot_background(ax)\n",
    "cf = ax.contourf(lon, lat, vp_data1, vp_levels1, transform=ccrs.PlateCarree(), cmap=vp_cmap1, extend='both')\n",
    "cb = fig.colorbar(cf, orientation='horizontal', extend='max', aspect=65, shrink=1, pad=0.20, extendrect='True')\n",
    "\n",
    "ax = fig.add_subplot(3, 1, 2, projection=ccrs.PlateCarree(central_longitude=180.0))\n",
    "ax.set_title('Anomaly field - VP200', loc='center')\n",
    "plot_background(ax)\n",
    "cf = ax.contourf(lon, lat, vp_data2, vp_levels2, transform=ccrs.PlateCarree(), cmap=vp_cmap2, extend='both')\n",
    "\n",
    "cb = fig.colorbar(cf, orientation='horizontal', extend='max', aspect=65, shrink=1, pad=0.20, extendrect='True')\n",
    "\n",
    "ax = fig.add_subplot(3,1,3)\n",
    "plt.title('Anomaly field - VP200 : 15S-15N average', fontsize=12)\n",
    "ax.set_xticks(np.linspace(0, 360, 13))\n",
    "ax.set_xticklabels(np.linspace(0, 360, 13))\n",
    "plt.xlim(lon[0], lon[-1])\n",
    "plt.xlabel('Longitude')\n",
    "plt.ylabel('Anomaly ($10^6$m$^2$s$^{-1}$)')\n",
    "prof = ax.plot(lon, vp_profile, color='black', linewidth=1, linestyle='-')\n",
    "plt.axhline(0, color='k')\n",
    "plt.axvline(0, color='k', linestyle='--')\n",
    "plt.axvline(90, color='k', linestyle='--')\n",
    "plt.axvline(180, color='k', linestyle='--')\n",
    "plt.axvline(270, color='k', linestyle='--')\n",
    "\n",
    "plt.show()\n",
    "\n",
    "figname=dir_figs+'VP200_'+date1\n",
    "fig.savefig(figname+'.png')"
   ]
  },
  {
   "cell_type": "markdown",
   "metadata": {},
   "source": [
    "# <span style='background :yellow' > Questions </span>\n",
    "\n",
    "<p>\n",
    "**1)** Pour le jour choisi, localiser les principales régions favorables/défavorables à grande échelle au développpemnt de la convection profonde.\n",
    "</p>\n",
    "\n",
    "<p style=\"background:rgb(230,255,230)\">\n",
    "votre réponse ici\n",
    "</p>"
   ]
  },
  {
   "cell_type": "raw",
   "metadata": {},
   "source": [
    "Tracé des cartes d'OLR (champ quotidien et anomalie quotidienne)."
   ]
  },
  {
   "cell_type": "code",
   "execution_count": null,
   "metadata": {
    "scrolled": false
   },
   "outputs": [],
   "source": [
    "fig = plt.figure(figsize=(15., 10.))\n",
    "fig.suptitle('OLR and winds at 850 hPa : '+date1, fontsize=16)\n",
    "ax = fig.add_subplot(3, 1, 1, projection=ccrs.PlateCarree(central_longitude=180.0))\n",
    "ax.set_title('Daily field - OLR and winds', loc='center')\n",
    "plot_background(ax)\n",
    "cf = ax.contourf(lon, lat, olr_data1, olr_levels1, transform=ccrs.PlateCarree(), cmap=olr_cmap1, extend='both')\n",
    "cb = fig.colorbar(cf, orientation='horizontal', extend='max', aspect=65, shrink=1, pad=0.20, extendrect='True')\n",
    "wind = ax.quiver(lon, lat, u_data1, v_data1, scale=600, angles='xy', regrid_shape=10, transform=ccrs.PlateCarree())\n",
    "\n",
    "ax = fig.add_subplot(3, 1, 2, projection=ccrs.PlateCarree(central_longitude=180.0))\n",
    "ax.set_title('Anomaly field - OLR and winds', loc='center')\n",
    "plot_background(ax)\n",
    "cf = ax.contourf(lon, lat, olr_data2, olr_levels2,  transform=ccrs.PlateCarree(), cmap=olr_cmap2, extend='both')\n",
    "\n",
    "cb = fig.colorbar(cf, orientation='horizontal', extend='max', aspect=65, shrink=1, pad=0.20, extendrect='True')\n",
    "wind = ax.quiver(lon, lat, u_data2, v_data2, scale=600, angles='xy', regrid_shape=10, transform=ccrs.PlateCarree())\n",
    "\n",
    "ax = fig.add_subplot(3,1,3)\n",
    "plt.title('Anomaly field - OLR : 15S-15N average', fontsize=12)\n",
    "ax.set_xticks(np.linspace(0, 360, 13))\n",
    "ax.set_xticklabels(np.linspace(0, 360, 13))\n",
    "plt.xlim(lon[0], lon[-1])\n",
    "plt.xlabel('Longitude')\n",
    "plt.ylabel('Anomaly (W/m$^2$)')\n",
    "prof = ax.plot(lon, olr_profile, color='black', linewidth=1, linestyle='-')\n",
    "plt.axhline(0, color='k')\n",
    "plt.axvline(0, color='k', linestyle='--')\n",
    "plt.axvline(90, color='k', linestyle='--')\n",
    "plt.axvline(180, color='k', linestyle='--')\n",
    "plt.axvline(270, color='k', linestyle='--')\n",
    "plt.show()\n",
    "\n",
    "figname=dir_figs+'OLR_wind_'+date1\n",
    "fig.savefig(figname+'.png')"
   ]
  },
  {
   "cell_type": "markdown",
   "metadata": {},
   "source": [
    "# <span style='background :yellow' > Questions </span>\n",
    "\n",
    "\n",
    "<p>\n",
    "**1)**  Pour le jour choisi, localiser les principales anomalies (renforcement, affaiblissement) de convection profonde.\n",
    "\n",
    "<p style=\"background:rgb(230,255,230)\">\n",
    "votre réponse ici\n",
    "</p>\n",
    "\n",
    "<p>\n",
    "**2)** Quelle est le signe dominant de l'anomalie de vent zonal sur l'Océan Indien?\n",
    "</p>\n",
    "\n",
    "<p style=\"background:rgb(230,255,230)\">\n",
    "votre réponse ici\n",
    "</p>"
   ]
  },
  {
   "cell_type": "raw",
   "metadata": {},
   "source": [
    "Sélection des données pour le mois d'avril 2005."
   ]
  },
  {
   "cell_type": "code",
   "execution_count": null,
   "metadata": {},
   "outputs": [],
   "source": [
    "date1='2005-04-01'\n",
    "date2='2005-04-30'\n",
    "\n",
    "olr_days=olr.sel(time=slice(date1,date2))\n",
    "olr_days_anom=olr_anom.sel(time=slice(date1,date2))\n",
    "vp_days=vp.sel(time=slice(date1,date2)) * 1e-06\n",
    "vp_days_anom=vp_anom.sel(time=slice(date1,date2)) * 1e-06\n",
    "u_days=u.sel(time=slice(date1,date2))\n",
    "u_days_anom=u_anom.sel(time=slice(date1,date2))\n",
    "v_days=v.sel(time=slice(date1,date2))\n",
    "v_days_anom=v_anom.sel(time=slice(date1,date2))\n",
    "\n",
    "print(olr_days_anom)\n",
    "\n",
    "time  = olr_days.time.values\n",
    "lat = olr_days.lat.values\n",
    "\n",
    "olr_data1 = olr_days['olr']\n",
    "olr_data2 = olr_days_anom['olr']\n",
    "vp_data1 = vp_days['VP200']\n",
    "vp_data2 = vp_days_anom['VP200']\n",
    "u_data1 = u_days['uwnd']\n",
    "u_data2 = u_days_anom['uwnd']\n",
    "v_data1 = v_days['vwnd']\n",
    "v_data2 = v_days_anom['vwnd']"
   ]
  },
  {
   "cell_type": "raw",
   "metadata": {},
   "source": [
    "Gestion des dates sous format chaîne de caractère."
   ]
  },
  {
   "cell_type": "code",
   "execution_count": null,
   "metadata": {},
   "outputs": [],
   "source": [
    "time_str=[x for x in range(len(time))]\n",
    "date_str=[x for x in range(len(time))]\n",
    "\n",
    "for i in range(len(time)):\n",
    "\ttime_str[i] = str(time[i])\n",
    "\tdate_str[i] = time_str[i][0:10]\n",
    "\n",
    "print(date_str)"
   ]
  },
  {
   "cell_type": "raw",
   "metadata": {},
   "source": [
    "Conversion de u et v en numpy array (sinon problème avec tracé des vecteurs vent)."
   ]
  },
  {
   "cell_type": "code",
   "execution_count": null,
   "metadata": {},
   "outputs": [],
   "source": [
    "u_data1=np.array(u_data1)\n",
    "v_data1=np.array(v_data1)\n",
    "u_data2=np.array(u_data2)\n",
    "v_data2=np.array(v_data2)"
   ]
  },
  {
   "cell_type": "raw",
   "metadata": {},
   "source": [
    "Moyenne du champ d'anomalie sur la bande de latitudes 15S-15N."
   ]
  },
  {
   "cell_type": "code",
   "execution_count": null,
   "metadata": {},
   "outputs": [],
   "source": [
    "olr_days_anom_avg=olr_days_anom.sel(lat=slice(latN,latS)).mean('lat')\n",
    "vp_days_anom_avg=vp_days_anom.sel(lat=slice(latN,latS)).mean('lat')\n",
    "print(olr_days_anom_avg)\n",
    "olr_profiles = olr_days_anom_avg['olr']\n",
    "vp_profiles = vp_days_anom_avg['VP200']\n",
    "print(vp_profiles)"
   ]
  },
  {
   "cell_type": "raw",
   "metadata": {},
   "source": [
    "Création des cartes de VP200 (fichiers png individuels)."
   ]
  },
  {
   "cell_type": "code",
   "execution_count": null,
   "metadata": {
    "scrolled": true
   },
   "outputs": [],
   "source": [
    "plt_title = 'VP200 : '+date1+'-'+date2\n",
    "\n",
    "for i in range(len(time)):\n",
    "    print(date_str[i])\n",
    "    fig = plt.figure(figsize=(15., 10.))\n",
    "    fig.suptitle('VP200 : '+date_str[i], fontsize=16)\n",
    "    \n",
    "    ax = fig.add_subplot(3, 1, 1, projection=ccrs.PlateCarree(central_longitude=180.0))\n",
    "    ax.set_title('Daily field', loc='center')\n",
    "    plot_background(ax)\n",
    "    cf = ax.contourf(lon, lat, vp_data1[i,:,:], vp_levels1, transform=ccrs.PlateCarree(),\n",
    "                     cmap=vp_cmap1, extend='both')\n",
    "    cb = fig.colorbar(cf, orientation='horizontal', extend='max', aspect=65, shrink=1, pad=0.20, extendrect='True')\n",
    "    \n",
    "    ax = fig.add_subplot(3, 1, 2, projection=ccrs.PlateCarree(central_longitude=180.0))\n",
    "    ax.set_title('Anomaly field', loc='center')\n",
    "    plot_background(ax)\n",
    "    cf = ax.contourf(lon, lat, vp_data2[i,:,:], vp_levels2, transform=ccrs.PlateCarree(),\n",
    "                     cmap=vp_cmap2, extend='both')\n",
    "    cb = fig.colorbar(cf, orientation='horizontal', extend='max', aspect=65, shrink=1, pad=0.20, extendrect='True')\n",
    "    \n",
    "    ax = fig.add_subplot(3,1,3)\n",
    "    plt.title('Anomaly field : 15S-15N average', fontsize=12)\n",
    "    ax.set_xticks(np.linspace(0, 360, 13))\n",
    "    ax.set_xticklabels(np.linspace(0, 360, 13))\n",
    "    plt.xlim(lon[0], lon[-1])\n",
    "    plt.ylim(-18, 18)    \n",
    "    plt.xlabel('Longitude')\n",
    "    plt.ylabel('Anomaly ($10^6$m$^2$s$^{-1}$)')\n",
    "    prof = ax.plot(lon, vp_profiles[i,:], color='black', linewidth=1, linestyle='-')\n",
    "    plt.axhline(0, color='k')\n",
    "    plt.axvline(0, color='k', linestyle='--')\n",
    "    plt.axvline(90, color='k', linestyle='--')\n",
    "    plt.axvline(180, color='k', linestyle='--')\n",
    "    plt.axvline(270, color='k', linestyle='--')\n",
    "    plt.close()\n",
    "    figname=dir_anim+'VP200_'+date_str[i]\n",
    "    fig.savefig(figname+'.png')"
   ]
  },
  {
   "cell_type": "raw",
   "metadata": {},
   "source": [
    "Fonction de création d'une animation à partir des fichiers png présents dans le dossier anim."
   ]
  },
  {
   "cell_type": "code",
   "execution_count": null,
   "metadata": {},
   "outputs": [],
   "source": [
    "def make_animation():\n",
    "    nbimages=len(time)\n",
    "    # create a tuple of display durations, one for each frame\n",
    "    first_last = 1000 #show the first and last frames for 100 ms\n",
    "    standard_duration = 1000 #show all other frames for 5 ms\n",
    "    durations = tuple([first_last] + [standard_duration] * (nbimages - 2) + [first_last])\n",
    "    # load all the static images into a list\n",
    "    images = [Image.open(image) for image in sorted(glob.glob('{}/*.png'.format(dir_anim)))]\n",
    "    # save as an animated gif\n",
    "    gif = images[0]\n",
    "    gif.info['duration'] = durations #ms per frame\n",
    "    gif.info['loop'] = 0 #how many times to loop (0=infinite)\n",
    "    gif.save(fp=gif_filepath, format='gif', save_all=True, append_images=images[1:])\n",
    "    # verify that the number of frames in the gif equals the number of image files and durations\n",
    "    Image.open(gif_filepath).n_frames == len(images) == len(durations)\n",
    "    # clean png\n",
    "    os.chdir(dir_anim)\n",
    "    for f in glob.glob(\"*.png\"):\n",
    "        os.remove(f)\n",
    "    os.chdir(\"../\")\n",
    "    return Image"
   ]
  },
  {
   "cell_type": "raw",
   "metadata": {},
   "source": [
    "Réalisation de l'animation mensuelle VP200."
   ]
  },
  {
   "cell_type": "code",
   "execution_count": null,
   "metadata": {},
   "outputs": [],
   "source": [
    "gif_filepath = dir_anim+'VP200_'+date1+'-'+date2+'.gif'\n",
    "make_animation()\n",
    "IPdisplay.Image(url=gif_filepath)"
   ]
  },
  {
   "cell_type": "markdown",
   "metadata": {},
   "source": [
    "# <span style='background :yellow' > Questions </span>\n",
    "\n",
    "<p>\n",
    "**1)** Analyser la chronologie de la propagation des anomalies de VP200 au cours du mois choisi. Quel est le mode de propagation principal qui semble s'exprimer ?\n",
    "</p>\n",
    "\n",
    "<p style=\"background:rgb(230,255,230)\">\n",
    "votre réponse ici\n",
    "</p>"
   ]
  },
  {
   "cell_type": "raw",
   "metadata": {},
   "source": [
    "Création des cartes d'OLR et vents à 850 hPa (fichiers png individuels)."
   ]
  },
  {
   "cell_type": "code",
   "execution_count": null,
   "metadata": {
    "scrolled": true
   },
   "outputs": [],
   "source": [
    "for i in range(len(time)):\n",
    "    print(date_str[i])\n",
    "    fig = plt.figure(figsize=(15., 10.))\n",
    "    fig.suptitle('OLR and winds at 850 hPa : '+date_str[i], fontsize=16)\n",
    "    \n",
    "    ax = fig.add_subplot(3, 1, 1, projection=ccrs.PlateCarree(central_longitude=180.0))\n",
    "    ax.set_title('Daily field - OLR and winds', loc='center')\n",
    "    plot_background(ax)\n",
    "    cf = ax.contourf(lon, lat, olr_data1[i,:,:], olr_levels1, transform=ccrs.PlateCarree(),\n",
    "                     cmap=olr_cmap1, extend='both')\n",
    "    cb = fig.colorbar(cf, orientation='horizontal', extend='max', aspect=65, shrink=1, pad=0.20, extendrect='True')\n",
    "    wind = ax.quiver(lon, lat, u_data1[i,:,:], v_data1[i,:,:], scale=600, angles='xy', regrid_shape=10,\n",
    "                     transform=ccrs.PlateCarree())\n",
    "    \n",
    "    ax = fig.add_subplot(3, 1, 2, projection=ccrs.PlateCarree(central_longitude=180.0))\n",
    "    ax.set_title('Anomaly field - OLR and winds', loc='center')\n",
    "    plot_background(ax)\n",
    "    cf = ax.contourf(lon, lat, olr_data2[i,:,:], olr_levels2, transform=ccrs.PlateCarree(),\n",
    "                     cmap=olr_cmap2, extend='both')\n",
    "    cb = fig.colorbar(cf, orientation='horizontal', extend='max', aspect=65, shrink=1, pad=0.20, extendrect='True')\n",
    "    wind = ax.quiver(lon, lat, u_data2[i,:,:], v_data2[i,:,:], scale=600, angles='xy', regrid_shape=10,\n",
    "                     transform=ccrs.PlateCarree())\n",
    "    \n",
    "    ax = fig.add_subplot(3,1,3)\n",
    "    plt.title('Anomaly field - OLR : 15S-15N average', fontsize=12)\n",
    "    ax.set_xticks(np.linspace(0, 360, 13))\n",
    "    ax.set_xticklabels(np.linspace(0, 360, 13))\n",
    "    plt.ylim(-80, 80)\n",
    "    plt.xlim(lon[0], lon[-1])\n",
    "    plt.xlabel('Longitude')\n",
    "    plt.ylabel('Anomaly (W/m$^2$)')\n",
    "    prof = ax.plot(lon, olr_profiles[i,:], color='black', linewidth=1, linestyle='-')\n",
    "    plt.axhline(0, color='k')\n",
    "    plt.axvline(0, color='k', linestyle='--')\n",
    "    plt.axvline(90, color='k', linestyle='--')\n",
    "    plt.axvline(180, color='k', linestyle='--')\n",
    "    plt.axvline(270, color='k', linestyle='--')\n",
    "    figname=dir_anim+'OLR_wind_'+date_str[i]\n",
    "    fig.savefig(figname+'.png')\n",
    "    plt.close()"
   ]
  },
  {
   "cell_type": "raw",
   "metadata": {},
   "source": [
    "Réalisation de l'animation mensuelle OLR et vents à 850 hPa."
   ]
  },
  {
   "cell_type": "code",
   "execution_count": null,
   "metadata": {},
   "outputs": [],
   "source": [
    "gif_filepath = dir_anim+'OLR_wind_'+date1+'-'+date2+'.gif'\n",
    "make_animation()\n",
    "IPdisplay.Image(url=gif_filepath)"
   ]
  },
  {
   "cell_type": "markdown",
   "metadata": {},
   "source": [
    "# <span style='background :yellow' > Questions </span>\n",
    "\n",
    "\n",
    "<p>\n",
    "**1)** Analyser le déplacement de la principale zone de convection profonde. Quelles différences de propagation peut-on observer par rapport aux données de VP200 ?\n",
    "</p>\n",
    "\n",
    "<p style=\"background:rgb(230,255,230)\">\n",
    "votre réponse ici\n",
    "</p>"
   ]
  },
  {
   "cell_type": "markdown",
   "metadata": {},
   "source": [
    "# Etape 6 : réalisation de diagrammes temps-longitude (OLR, U850, VP200)."
   ]
  },
  {
   "cell_type": "raw",
   "metadata": {},
   "source": [
    "Extraction des données sur la période 2005-04-01 - 2005-06-30."
   ]
  },
  {
   "cell_type": "code",
   "execution_count": null,
   "metadata": {},
   "outputs": [],
   "source": [
    "date1=input('Entrer la date de début au format YYYY-MM-DD : ')\n",
    "date2=input('Entrer la date de fin au format YYYY-MM-DD : ')\n",
    "\n",
    "olr_days=olr.sel(time=slice(date1,date2))\n",
    "olr_days_anom=olr_anom.sel(time=slice(date1,date2))\n",
    "vp_days=vp.sel(time=slice(date1,date2)) * 1e-06\n",
    "vp_days_anom=vp_anom.sel(time=slice(date1,date2)) * 1e-06\n",
    "u_days=u.sel(time=slice(date1,date2))\n",
    "u_days_anom=u_anom.sel(time=slice(date1,date2))\n",
    "lat = olr_days.lat.values\n",
    "print(olr_days_anom)\n",
    "\n",
    "time_hov  = olr_days.time.values\n",
    "time_str=[x for x in range(len(time_hov))]\n",
    "date_str=[x for x in range(len(time_hov))]\n",
    "\n",
    "for i in range(len(time_hov)):\n",
    "\ttime_str[i] = str(time_hov[i])\n",
    "\tdate_str[i] = time_str[i][0:10]\n",
    "print(date_str)"
   ]
  },
  {
   "cell_type": "raw",
   "metadata": {},
   "source": [
    "Moyenne sur la bande de latitudes souhaitée (15S-15N)."
   ]
  },
  {
   "cell_type": "code",
   "execution_count": null,
   "metadata": {},
   "outputs": [],
   "source": [
    "olr_days_anom_avg=olr_days_anom.sel(lat=slice(latN,latS)).mean('lat')\n",
    "vp_days_anom_avg=vp_days_anom.sel(lat=slice(latN,latS)).mean('lat')\n",
    "u_days_anom_avg=u_days_anom.sel(lat=slice(latN,latS)).mean('lat')\n",
    "\n",
    "print(olr_days_anom_avg)\n",
    "\n",
    "lon_hov=olr_days_anom_avg.lon.values\n",
    "lon1=lon_hov[0]\n",
    "lon2=lon_hov[-1]\n",
    "\n",
    "data_hov_olr=olr_days_anom_avg['olr']\n",
    "data_hov_vp=vp_days_anom_avg['VP200']\n",
    "data_hov_u=u_days_anom_avg['uwnd']\n",
    "\n",
    "print(data_hov_olr)"
   ]
  },
  {
   "cell_type": "raw",
   "metadata": {},
   "source": [
    "Tracé des diagrammes de Hovmöller (+mini-carte pour se repérer géographiquement)."
   ]
  },
  {
   "cell_type": "code",
   "execution_count": null,
   "metadata": {
    "scrolled": false
   },
   "outputs": [],
   "source": [
    "olr_levels = np.arange(-100,110,10)\n",
    "vp_levels = np.arange(-18,20,2)\n",
    "u_levels = np.arange(-10,11,1)\n",
    "\n",
    "##### VP200\n",
    "fig = plt.figure(figsize=(12., 15.))\n",
    "ax=plt.subplot(1, 1, 1)\n",
    "plt.gca().invert_yaxis()\n",
    "ax.set_yticks(time_hov[::4])\n",
    "ax.set_yticklabels(date_str[::4])\n",
    "ax.set_xticklabels('')\n",
    "cf = ax.contourf(lon_hov, time_hov, data_hov_vp, vp_levels, cmap='BrBG_r', extend='both')\n",
    "\n",
    "cb = fig.colorbar(cf, orientation='vertical', extend='max', aspect=65, shrink=1, pad=0.05, extendrect='True')\n",
    "cb.set_label('$10^6$m$^2$s$^{-1}$', size='large')\n",
    "ax.set_title('VP200 anomaly : '+date1+'-'+date2, loc='center')\n",
    "\n",
    "ax_inset = fig.add_axes([0.125, 0.03, 0.62, 0.05], projection=ccrs.PlateCarree(central_longitude=180.0))\n",
    "bounds = [(lon1, lon2, latS, latN)]\n",
    "ax_inset.axes.axis('tight')\n",
    "ax_inset.set_yticks(np.linspace(latS, latN, 2), crs=ccrs.PlateCarree())\n",
    "lat_formatter = LatitudeFormatter()\n",
    "ax_inset.yaxis.set_major_formatter(lat_formatter)\n",
    "ax_inset.set_xticks(np.linspace(-180, 180, 13))\n",
    "ax_inset.set_xticklabels(np.linspace(-180, 180, 13))\n",
    "lon_formatter = LongitudeFormatter(zero_direction_label=True)\n",
    "ax_inset.xaxis.set_major_formatter(lon_formatter)\n",
    "ax_inset.coastlines()\n",
    "ax_inset.stock_img()\n",
    "ax_inset.set_extent(*bounds, crs=ccrs.PlateCarree())\n",
    "\n",
    "plt.show()\n",
    "\n",
    "figname='./figs/VP_Hov_'+date1+'-'+date2\n",
    "fig.savefig(figname+'.png')\n",
    "\n",
    "##### OLR\n",
    "fig = plt.figure(figsize=(12., 15.))\n",
    "ax=plt.subplot(1, 1, 1)\n",
    "plt.gca().invert_yaxis()\n",
    "ax.set_yticks(time_hov[::4])\n",
    "ax.set_yticklabels(date_str[::4])\n",
    "ax.set_xticklabels('')\n",
    "cf = ax.contourf(lon_hov, time_hov, data_hov_olr, olr_levels, cmap='RdBu_r', extend='both')\n",
    "\n",
    "cb = fig.colorbar(cf, orientation='vertical', extend='max', aspect=65, shrink=1, pad=0.05, extendrect='True')\n",
    "cb.set_label('W/m$^2$', size='large')\n",
    "ax.set_title('OLR anomaly : '+date1+'-'+date2, loc='center')\n",
    "\n",
    "ax_inset = fig.add_axes([0.125, 0.03, 0.62, 0.05], projection=ccrs.PlateCarree(central_longitude=180.0))\n",
    "bounds = [(lon1, lon2, latS, latN)]\n",
    "ax_inset.axes.axis('tight')\n",
    "ax_inset.set_yticks(np.linspace(latS, latN, 2), crs=ccrs.PlateCarree())\n",
    "lat_formatter = LatitudeFormatter()\n",
    "ax_inset.yaxis.set_major_formatter(lat_formatter)\n",
    "ax_inset.set_xticks(np.linspace(-180, 180, 13))\n",
    "ax_inset.set_xticklabels(np.linspace(-180, 180, 13))\n",
    "lon_formatter = LongitudeFormatter(zero_direction_label=True)\n",
    "ax_inset.xaxis.set_major_formatter(lon_formatter)\n",
    "ax_inset.coastlines()\n",
    "ax_inset.stock_img()\n",
    "ax_inset.set_extent(*bounds, crs=ccrs.PlateCarree())\n",
    "\n",
    "plt.show()\n",
    "\n",
    "figname=dir_figs+'OLR_Hov_'+date1+'-'+date2\n",
    "fig.savefig(figname+'.png')\n",
    "\n",
    "##### U850\n",
    "fig = plt.figure(figsize=(12., 15.))\n",
    "ax=plt.subplot(1, 1, 1)\n",
    "plt.gca().invert_yaxis()\n",
    "ax.set_yticks(time_hov[::4])\n",
    "ax.set_yticklabels(date_str[::4])\n",
    "ax.set_xticklabels('')\n",
    "cf = ax.contourf(lon_hov, time_hov, data_hov_u, u_levels, cmap='RdBu_r', extend='both')\n",
    "\n",
    "cb = fig.colorbar(cf, orientation='vertical', extend='max', aspect=65, shrink=1, pad=0.05, extendrect='True')\n",
    "cb.set_label('m/s', size='large')\n",
    "ax.set_title('U850 anomaly : '+date1+'-'+date2, loc='center')\n",
    "\n",
    "ax_inset = fig.add_axes([0.125, 0.03, 0.62, 0.05], projection=ccrs.PlateCarree(central_longitude=180.0))\n",
    "bounds = [(lon1, lon2, latS, latN)]\n",
    "ax_inset.axes.axis('tight')\n",
    "ax_inset.set_yticks(np.linspace(latS, latN, 2), crs=ccrs.PlateCarree())\n",
    "lat_formatter = LatitudeFormatter()\n",
    "ax_inset.yaxis.set_major_formatter(lat_formatter)\n",
    "ax_inset.set_xticks(np.linspace(-180, 180, 13))\n",
    "ax_inset.set_xticklabels(np.linspace(-180, 180, 13))\n",
    "lon_formatter = LongitudeFormatter(zero_direction_label=True)\n",
    "ax_inset.xaxis.set_major_formatter(lon_formatter)\n",
    "ax_inset.coastlines()\n",
    "ax_inset.stock_img()\n",
    "ax_inset.set_extent(*bounds, crs=ccrs.PlateCarree())\n",
    "\n",
    "plt.show()\n",
    "\n",
    "figname=dir_figs+'U850_Hov_'+date1+'-'+date2\n",
    "fig.savefig(figname+'.png')"
   ]
  },
  {
   "cell_type": "markdown",
   "metadata": {},
   "source": [
    "# <span style='background :yellow' > Questions </span>\n",
    "\n",
    "<p>\n",
    "**1)** Caractériser la propagation principale vers l'est des anomalies d’OLR et de VP200 en termes de vitesses de phase. Cette vitesse de phase est-elle la même pour toutes les longitudes ?\n",
    "</p>\n",
    "\n",
    "<p style=\"background:rgb(230,255,230)\">\n",
    "votre réponse ici\n",
    "</p>\n",
    "\n",
    "<p>\n",
    "**2)** Quel est le signe de l’anomalie de vent zonal associée à la propagation vers l’est des zones de renforcement de la convection profonde ?\n",
    "</p>\n",
    "\n",
    "<p style=\"background:rgb(230,255,230)\">\n",
    "votre réponse ici\n",
    "</p>\n",
    "\n",
    "<p>\n",
    "**3)** Ces diagrammes confirment-ils les différences de propagations entre anomalies d'OLR et anomalies de VP200 constatées sur les cartes ?\n",
    "</p>\n",
    "\n",
    "<p style=\"background:rgb(230,255,230)\">\n",
    "votre réponse ici\n",
    "</p>\n",
    "\n",
    "<p>\n",
    "**4)** Réaliser les diagrammes de Hovmoller pour la période janvier-mars 2000. Comment qualifier la propagation des anomalies de convection profonde sur cette période ?\n",
    "</p>\n",
    "\n",
    "<p style=\"background:rgb(230,255,230)\">\n",
    "votre réponse ici\n",
    "</p>"
   ]
  },
  {
   "cell_type": "code",
   "execution_count": null,
   "metadata": {},
   "outputs": [],
   "source": []
  }
 ],
 "metadata": {
  "kernelspec": {
   "display_name": "Python 3 (ipykernel)",
   "language": "python",
   "name": "python3"
  },
  "language_info": {
   "codemirror_mode": {
    "name": "ipython",
    "version": 3
   },
   "file_extension": ".py",
   "mimetype": "text/x-python",
   "name": "python",
   "nbconvert_exporter": "python",
   "pygments_lexer": "ipython3",
   "version": "3.8.10"
  }
 },
 "nbformat": 4,
 "nbformat_minor": 1
}
